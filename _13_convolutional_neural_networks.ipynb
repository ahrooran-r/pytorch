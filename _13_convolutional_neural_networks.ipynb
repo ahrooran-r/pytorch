{
 "cells": [
  {
   "cell_type": "code",
   "execution_count": 1,
   "metadata": {
    "collapsed": true,
    "pycharm": {
     "name": "#%%\n"
    }
   },
   "outputs": [
    {
     "data": {
      "text/plain": "'NVIDIA GeForce GTX 1650 with Max-Q Design'"
     },
     "execution_count": 1,
     "metadata": {},
     "output_type": "execute_result"
    }
   ],
   "source": [
    "import numpy as np\n",
    "import torch\n",
    "import torch.nn as nn\n",
    "import torch.nn.functional as F\n",
    "import torchvision\n",
    "import torchvision.transforms as transforms\n",
    "from torch.utils.data import DataLoader, Dataset\n",
    "import matplotlib.pyplot as plt\n",
    "import matplotlib.image as mpimg\n",
    "from PIL import Image\n",
    "\n",
    "gpu = torch.cuda.current_device()\n",
    "torch.cuda.get_device_name()"
   ]
  },
  {
   "cell_type": "code",
   "source": [
    "# device config\n",
    "device = torch.device(\"cuda\" if torch.cuda.is_available() else \"cpu\")\n",
    "device"
   ],
   "metadata": {
    "collapsed": false,
    "pycharm": {
     "name": "#%%\n"
    }
   },
   "execution_count": 2,
   "outputs": [
    {
     "data": {
      "text/plain": "device(type='cuda')"
     },
     "execution_count": 2,
     "metadata": {},
     "output_type": "execute_result"
    }
   ]
  },
  {
   "cell_type": "code",
   "execution_count": 3,
   "outputs": [],
   "source": [
    "# hyper parameters\n",
    "num_epochs = 4\n",
    "batch_size = 4\n",
    "learning_rate = 0.001"
   ],
   "metadata": {
    "collapsed": false,
    "pycharm": {
     "name": "#%%\n"
    }
   }
  },
  {
   "cell_type": "code",
   "execution_count": 4,
   "outputs": [
    {
     "name": "stdout",
     "output_type": "stream",
     "text": [
      "Files already downloaded and verified\n"
     ]
    }
   ],
   "source": [
    "# dataset import\n",
    "transforms = transforms.Compose(\n",
    "    [transforms.ToTensor(),\n",
    "    transforms.Normalize((0.5,0.5,0.5), (0.5,0.5,0.5))]\n",
    ")\n",
    "\n",
    "train_dataset = torchvision.datasets.CIFAR10(\n",
    "    root=\"./data/cifar\",\n",
    "    train=True,\n",
    "    download=True,\n",
    "    transform=transforms\n",
    ")\n",
    "\n",
    "test_dataset = torchvision.datasets.CIFAR10(\n",
    "    root=\"./data/cifar\",\n",
    "    train=False,\n",
    "    download=False,\n",
    "    transform=transforms\n",
    ")\n",
    "\n",
    "train_loader = torch.utils.data.DataLoader(\n",
    "    dataset=train_dataset,\n",
    "    batch_size=batch_size,\n",
    "    shuffle=True\n",
    ")\n",
    "\n",
    "test_loader = torch.utils.data.DataLoader(\n",
    "    dataset=test_dataset,\n",
    "    batch_size=batch_size,\n",
    "    shuffle=True\n",
    ")"
   ],
   "metadata": {
    "collapsed": false,
    "pycharm": {
     "name": "#%%\n"
    }
   }
  },
  {
   "cell_type": "code",
   "execution_count": 5,
   "outputs": [],
   "source": [
    "# name classes\n",
    "classes = [\n",
    "    \"plane\", \"car\", \"bird\", \"cat\",\n",
    "    \"deer\", \"dog\", \"frog\", \"horse\", \"ship\", \"truck\"\n",
    "]"
   ],
   "metadata": {
    "collapsed": false,
    "pycharm": {
     "name": "#%%\n"
    }
   }
  },
  {
   "cell_type": "code",
   "execution_count": 6,
   "outputs": [
    {
     "data": {
      "text/plain": "torch.Size([4, 3, 32, 32])"
     },
     "execution_count": 6,
     "metadata": {},
     "output_type": "execute_result"
    }
   ],
   "source": [
    "examples = iter(train_loader)\n",
    "samples, labels = next(examples)\n",
    "samples.shape"
   ],
   "metadata": {
    "collapsed": false,
    "pycharm": {
     "name": "#%%\n"
    }
   }
  },
  {
   "cell_type": "markdown",
   "source": [
    "`torch.Size([4, 3, 32, 32])`\n",
    "\n",
    "1. batch_size = 4\n",
    "2. channel = 3 (RGB)\n",
    "3. image = 32 x 32"
   ],
   "metadata": {
    "collapsed": false,
    "pycharm": {
     "name": "#%% md\n"
    }
   }
  },
  {
   "cell_type": "code",
   "execution_count": 7,
   "outputs": [
    {
     "data": {
      "text/plain": "<Figure size 432x288 with 1 Axes>",
      "image/png": "[encoded data removed]"
     },
     "metadata": {
      "needs_background": "light"
     },
     "output_type": "display_data"
    }
   ],
   "source": [
    "def imshow(img):\n",
    "    img = img / 2 + 0.5 # un-normalize\n",
    "    npimg = img.numpy()\n",
    "    plt.imshow(np.transpose(npimg, (1,2,0)))\n",
    "    plt.show()\n",
    "\n",
    "imshow(samples[1])"
   ],
   "metadata": {
    "collapsed": false,
    "pycharm": {
     "name": "#%%\n"
    }
   }
  },
  {
   "cell_type": "code",
   "execution_count": 8,
   "outputs": [],
   "source": [
    "# setup model\n",
    "\n",
    "class MyCNN(nn.Module):\n",
    "\n",
    "    def __init__(self):\n",
    "\n",
    "        super(MyCNN, self).__init__()\n",
    "\n",
    "        self.conv1 = nn.Conv2d(3, 6, 5)\n",
    "        # 3 -> 3 channels\n",
    "        self.pool = nn.MaxPool2d(2, 2)\n",
    "        self.conv2 = nn.Conv2d(6, 16, 5)\n",
    "        self.fc1 = nn.Linear(16 * 5 * 5, 120)\n",
    "        # 16 * 5 * 5 -> must be fixed\n",
    "        self.fc2 = nn.Linear(120, 84)\n",
    "        self.fc3 = nn.Linear(84, 10)\n",
    "\n",
    "\n",
    "    def forward(self, x):\n",
    "        x = self.pool(F.relu(self.conv1(x)))\n",
    "        x = self.pool(F.relu(self.conv2(x)))\n",
    "        x = x.view(-1, 16*5*5)\n",
    "        x = F.relu(self.fc1(x))\n",
    "        x = F.relu(self.fc2(x))\n",
    "        x = self.fc3(x)\n",
    "        return x\n",
    "\n",
    "model = MyCNN().to(device)"
   ],
   "metadata": {
    "collapsed": false,
    "pycharm": {
     "name": "#%%\n"
    }
   }
  },
  {
   "cell_type": "code",
   "execution_count": 9,
   "outputs": [],
   "source": [
    "# setup loss, optimizer\n",
    "criterion = nn.CrossEntropyLoss()\n",
    "optimizer = torch.optim.SGD(params=model.parameters(), lr=learning_rate)"
   ],
   "metadata": {
    "collapsed": false,
    "pycharm": {
     "name": "#%%\n"
    }
   }
  },
  {
   "cell_type": "code",
   "execution_count": 10,
   "outputs": [
    {
     "name": "stderr",
     "output_type": "stream",
     "text": [
      "E:\\OpenSoftware\\miniconda\\envs\\ml_project\\lib\\site-packages\\torch\\nn\\functional.py:718: UserWarning: Named tensors and all their associated APIs are an experimental feature and subject to change. Please do not use them for anything important until they are released as stable. (Triggered internally at  ..\\c10/core/TensorImpl.h:1156.)\n",
      "  return torch.max_pool2d(input, kernel_size, stride, padding, dilation, ceil_mode)\n"
     ]
    },
    {
     "name": "stdout",
     "output_type": "stream",
     "text": [
      "epoch: 1/4, step: 1/12500, loss: 2.3811\n",
      "epoch: 1/4, step: 1001/12500, loss: 2.3299\n",
      "epoch: 1/4, step: 2001/12500, loss: 2.3243\n",
      "epoch: 1/4, step: 3001/12500, loss: 2.2863\n",
      "epoch: 1/4, step: 4001/12500, loss: 2.3008\n",
      "epoch: 1/4, step: 5001/12500, loss: 2.2961\n",
      "epoch: 1/4, step: 6001/12500, loss: 2.2301\n",
      "epoch: 1/4, step: 7001/12500, loss: 2.2989\n",
      "epoch: 1/4, step: 8001/12500, loss: 2.2517\n",
      "epoch: 1/4, step: 9001/12500, loss: 2.4101\n",
      "epoch: 1/4, step: 10001/12500, loss: 2.2153\n",
      "epoch: 1/4, step: 11001/12500, loss: 2.0035\n",
      "epoch: 1/4, step: 12001/12500, loss: 2.1404\n",
      "epoch: 2/4, step: 1/12500, loss: 2.1014\n",
      "epoch: 2/4, step: 1001/12500, loss: 1.9343\n",
      "epoch: 2/4, step: 2001/12500, loss: 2.4144\n",
      "epoch: 2/4, step: 3001/12500, loss: 1.6064\n",
      "epoch: 2/4, step: 4001/12500, loss: 1.9774\n",
      "epoch: 2/4, step: 5001/12500, loss: 2.2034\n",
      "epoch: 2/4, step: 6001/12500, loss: 1.5898\n",
      "epoch: 2/4, step: 7001/12500, loss: 1.5233\n",
      "epoch: 2/4, step: 8001/12500, loss: 1.3613\n",
      "epoch: 2/4, step: 9001/12500, loss: 1.7948\n",
      "epoch: 2/4, step: 10001/12500, loss: 1.3924\n",
      "epoch: 2/4, step: 11001/12500, loss: 1.3730\n",
      "epoch: 2/4, step: 12001/12500, loss: 2.0218\n",
      "epoch: 3/4, step: 1/12500, loss: 1.7389\n",
      "epoch: 3/4, step: 1001/12500, loss: 1.1101\n",
      "epoch: 3/4, step: 2001/12500, loss: 1.6224\n",
      "epoch: 3/4, step: 3001/12500, loss: 1.6977\n",
      "epoch: 3/4, step: 4001/12500, loss: 1.7184\n",
      "epoch: 3/4, step: 5001/12500, loss: 2.1840\n",
      "epoch: 3/4, step: 6001/12500, loss: 1.3518\n",
      "epoch: 3/4, step: 7001/12500, loss: 1.9994\n",
      "epoch: 3/4, step: 8001/12500, loss: 1.3937\n",
      "epoch: 3/4, step: 9001/12500, loss: 1.5282\n",
      "epoch: 3/4, step: 10001/12500, loss: 1.2015\n",
      "epoch: 3/4, step: 11001/12500, loss: 1.8014\n",
      "epoch: 3/4, step: 12001/12500, loss: 2.0240\n",
      "epoch: 4/4, step: 1/12500, loss: 1.6948\n",
      "epoch: 4/4, step: 1001/12500, loss: 1.1280\n",
      "epoch: 4/4, step: 2001/12500, loss: 1.8025\n",
      "epoch: 4/4, step: 3001/12500, loss: 0.8680\n",
      "epoch: 4/4, step: 4001/12500, loss: 1.3072\n",
      "epoch: 4/4, step: 5001/12500, loss: 0.9282\n",
      "epoch: 4/4, step: 6001/12500, loss: 1.3949\n",
      "epoch: 4/4, step: 7001/12500, loss: 1.0765\n",
      "epoch: 4/4, step: 8001/12500, loss: 1.0271\n",
      "epoch: 4/4, step: 9001/12500, loss: 1.8303\n",
      "epoch: 4/4, step: 10001/12500, loss: 1.7954\n",
      "epoch: 4/4, step: 11001/12500, loss: 1.6970\n",
      "epoch: 4/4, step: 12001/12500, loss: 1.0649\n"
     ]
    }
   ],
   "source": [
    "n_total_steps = len(train_loader)\n",
    "\n",
    "for epoch in range(num_epochs):\n",
    "\n",
    "    for i, (images, labels) in enumerate(train_loader):\n",
    "\n",
    "        images = images.to(device)\n",
    "        labels = labels.to(device)\n",
    "\n",
    "        # forward pass\n",
    "        pred_labels = model(images)\n",
    "        loss = criterion(pred_labels, labels)\n",
    "\n",
    "        # backward pass\n",
    "        optimizer.zero_grad()\n",
    "        loss.backward()\n",
    "        optimizer.step()\n",
    "\n",
    "        if i % 1000 == 0:\n",
    "            print(f\"epoch: {epoch+1}/{num_epochs}, step: {i+1}/{n_total_steps}, loss: {loss.item():.4f}\")"
   ],
   "metadata": {
    "collapsed": false,
    "pycharm": {
     "name": "#%%\n"
    }
   }
  },
  {
   "cell_type": "code",
   "execution_count": 12,
   "outputs": [
    {
     "name": "stdout",
     "output_type": "stream",
     "text": [
      "accuracy of network: 0.01 %\n",
      "accuracy of plane: 42.8 %\n",
      "accuracy of car: 67.2 %\n",
      "accuracy of bird: 20.7 %\n",
      "accuracy of cat: 18.1 %\n",
      "accuracy of deer: 51.5 %\n",
      "accuracy of dog: 36.8 %\n",
      "accuracy of frog: 65.6 %\n",
      "accuracy of horse: 44.2 %\n",
      "accuracy of ship: 65.9 %\n",
      "accuracy of truck: 52.1 %\n"
     ]
    }
   ],
   "source": [
    "# testing\n",
    "with torch.no_grad():\n",
    "\n",
    "    n_correct = 0\n",
    "    n_samples = 0\n",
    "    n_class_correct = [0 for i in range(10)]\n",
    "    n_class_samples = [0 for i in range(10)]\n",
    "\n",
    "    for images, labels in test_loader:\n",
    "\n",
    "        # reshape -> same as above\n",
    "        images = images.to(device)\n",
    "        labels = labels.to(device)\n",
    "\n",
    "        pred_labels = model(images)\n",
    "\n",
    "        # pred_labels would be probabilities\n",
    "        # get classes out of those prob.\n",
    "        _, pred_labels = torch.max(pred_labels, dim=1)\n",
    "\n",
    "        n_samples += labels.shape[0]\n",
    "        n_correct = (pred_labels == labels).sum().item()\n",
    "\n",
    "        for i in range(batch_size):\n",
    "            label = labels[i]\n",
    "            pred_label = pred_labels[i]\n",
    "            if pred_label == label:\n",
    "                n_class_correct[label]+=1\n",
    "            n_class_samples[label]+=1\n",
    "\n",
    "    accuracy = 100 * n_correct / n_samples\n",
    "    print(f\"accuracy of network: {accuracy} %\")\n",
    "\n",
    "    for i in range(10):\n",
    "        accuracy = 100 * n_class_correct[i] / n_class_samples[i]\n",
    "        print(f\"accuracy of {classes[i]}: {accuracy} %\")\n"
   ],
   "metadata": {
    "collapsed": false,
    "pycharm": {
     "name": "#%%\n"
    }
   }
  }
 ],
 "metadata": {
  "kernelspec": {
   "display_name": "Python 3",
   "language": "python",
   "name": "python3"
  },
  "language_info": {
   "codemirror_mode": {
    "name": "ipython",
    "version": 2
   },
   "file_extension": ".py",
   "mimetype": "text/x-python",
   "name": "python",
   "nbconvert_exporter": "python",
   "pygments_lexer": "ipython2",
   "version": "2.7.6"
  }
 },
 "nbformat": 4,
 "nbformat_minor": 0
}