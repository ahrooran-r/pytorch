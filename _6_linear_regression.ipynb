{
 "cells": [
  {
   "cell_type": "code",
   "execution_count": 78,
   "metadata": {
    "collapsed": true
   },
   "outputs": [
    {
     "data": {
      "text/plain": "'NVIDIA GeForce GTX 1650 with Max-Q Design'"
     },
     "execution_count": 78,
     "metadata": {},
     "output_type": "execute_result"
    }
   ],
   "source": [
    "import numpy as np\n",
    "import torch\n",
    "import torch.nn as nn\n",
    "from sklearn import datasets\n",
    "import matplotlib.pyplot as plt\n",
    "\n",
    "gpu = torch.cuda.current_device()\n",
    "torch.cuda.get_device_name()"
   ]
  },
  {
   "cell_type": "markdown",
   "source": [
    "Do a linear regression"
   ],
   "metadata": {
    "collapsed": false,
    "pycharm": {
     "name": "#%% md\n"
    }
   }
  },
  {
   "cell_type": "code",
   "execution_count": 79,
   "outputs": [],
   "source": [
    "# 0. prepare data\n",
    "X_numpy, y_numpy = datasets.make_regression(n_samples=100, n_features=1, noise=20, random_state=42)\n",
    "\n",
    "# float32 is good for gpu\n",
    "X = torch.from_numpy(X_numpy.astype(np.float32))\n",
    "y = torch.from_numpy(y_numpy.astype(np.float32))\n",
    "\n",
    "# torch needs this type of array format for processing\n",
    "# it needs in format: n_samples, n_features\n",
    "y = y.view(y.shape[0], 1)\n",
    "\n",
    "n_samples, n_features = X.shape"
   ],
   "metadata": {
    "collapsed": false,
    "pycharm": {
     "name": "#%%\n"
    }
   }
  },
  {
   "cell_type": "code",
   "execution_count": 80,
   "outputs": [
    {
     "name": "stdout",
     "output_type": "stream",
     "text": [
      "Prediction before training for f(5) == -4.357898235321045\n",
      "epoch 1: w = -0.808, loss = 2202.57788086\n",
      "epoch 1001: w = 37.727, loss = 385.60919189\n",
      "epoch 2001: w = 45.237, loss = 315.31286621\n",
      "epoch 3001: w = 46.744, loss = 312.35180664\n",
      "epoch 4001: w = 47.053, loss = 312.22293091\n",
      "epoch 5001: w = 47.116, loss = 312.21725464\n",
      "epoch 6001: w = 47.130, loss = 312.21701050\n",
      "epoch 7001: w = 47.132, loss = 312.21697998\n",
      "epoch 8001: w = 47.132, loss = 312.21701050\n",
      "epoch 9001: w = 47.132, loss = 312.21701050\n",
      "Prediction after training for f(5) == 237.99037170410156\n"
     ]
    }
   ],
   "source": [
    "# 1. design model\n",
    "\n",
    "# for our case, both input features and output features are 1\n",
    "input_size = n_features\n",
    "output_size = 1\n",
    "model = nn.Linear(in_features=input_size, out_features=output_size)\n",
    "\n",
    "# 2. define loss and optimizer\n",
    "learning_rate = 0.001\n",
    "\n",
    "loss = nn.MSELoss()\n",
    "optimizer = torch.optim.SGD(params=model.parameters(), lr=learning_rate)\n",
    "\n",
    "X_test = torch.tensor([5], dtype=torch.float32)\n",
    "print(f\"Prediction before training for f(5) == {model(X_test).item()}\")\n",
    "\n",
    "# 3. Training loop\n",
    "n_iters = 10000\n",
    "for epoch in range(n_iters):\n",
    "\n",
    "    # 1. forward pass\n",
    "    y_predicted = model.forward(X)\n",
    "\n",
    "    # 2. loss\n",
    "    l = loss(y, y_predicted)\n",
    "\n",
    "    # 3. backward pass\n",
    "    l.backward()\n",
    "\n",
    "    # 4. update optimizer\n",
    "    optimizer.step()\n",
    "\n",
    "    # 5. reset gradients\n",
    "    optimizer.zero_grad()\n",
    "\n",
    "    # print info\n",
    "    if epoch % 1000 == 0:\n",
    "        [w, b] = model.parameters()\n",
    "        print(f'epoch {epoch+1}: w = {w[0][0].item():.3f}, loss = {l:.8f}')\n",
    "\n",
    "print(f\"Prediction after training for f(5) == {model(X_test).item()}\")"
   ],
   "metadata": {
    "collapsed": false,
    "pycharm": {
     "name": "#%%\n"
    }
   }
  },
  {
   "cell_type": "code",
   "execution_count": 81,
   "outputs": [
    {
     "data": {
      "text/plain": "<Figure size 432x288 with 1 Axes>",
      "image/png": "[encoded data removed]"
     },
     "metadata": {
      "needs_background": "light"
     },
     "output_type": "display_data"
    }
   ],
   "source": [
    "# plot the graph\n",
    "predicted = model(X).detach()\n",
    "# the detach method set the `requires_grad`\n",
    "# argument in `model.parameters()` to be false\n",
    "\n",
    "plt.plot(X_numpy, y_numpy, \"ro\")\n",
    "plt.plot(X_numpy, predicted, 'b')\n",
    "plt.show()\n"
   ],
   "metadata": {
    "collapsed": false,
    "pycharm": {
     "name": "#%%\n"
    }
   }
  }
 ],
 "metadata": {
  "kernelspec": {
   "display_name": "Python 3",
   "language": "python",
   "name": "python3"
  },
  "language_info": {
   "codemirror_mode": {
    "name": "ipython",
    "version": 2
   },
   "file_extension": ".py",
   "mimetype": "text/x-python",
   "name": "python",
   "nbconvert_exporter": "python",
   "pygments_lexer": "ipython2",
   "version": "2.7.6"
  }
 },
 "nbformat": 4,
 "nbformat_minor": 0
}