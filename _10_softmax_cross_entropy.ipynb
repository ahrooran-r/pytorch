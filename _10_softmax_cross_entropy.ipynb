{
 "cells": [
  {
   "cell_type": "code",
   "execution_count": 8,
   "metadata": {
    "collapsed": true,
    "pycharm": {
     "name": "#%%\n"
    }
   },
   "outputs": [
    {
     "data": {
      "text/plain": "'NVIDIA GeForce GTX 1650 with Max-Q Design'"
     },
     "execution_count": 8,
     "metadata": {},
     "output_type": "execute_result"
    }
   ],
   "source": [
    "import math\n",
    "import numpy as np\n",
    "\n",
    "import torch\n",
    "import torchvision\n",
    "from torch.utils.data import DataLoader, Dataset\n",
    "import torch.nn as nn\n",
    "\n",
    "from sklearn import datasets\n",
    "from sklearn.preprocessing import StandardScaler\n",
    "from sklearn.model_selection import train_test_split\n",
    "from sklearn.metrics import f1_score, roc_auc_score\n",
    "\n",
    "import matplotlib.pyplot as plt\n",
    "from torch.utils.data.dataset import T_co\n",
    "\n",
    "gpu = torch.cuda.current_device()\n",
    "torch.cuda.get_device_name()"
   ]
  },
  {
   "cell_type": "code",
   "source": [
    "def softmax(x):\n",
    "    return np.exp(x) / np.sum(np.exp(x), axis=0)\n",
    "\n",
    "x = np.array([1,2,3])\n",
    "\n",
    "softmax(x)\n",
    "\n",
    "# highest values have high probability"
   ],
   "metadata": {
    "collapsed": false,
    "pycharm": {
     "name": "#%%\n"
    }
   },
   "execution_count": 11,
   "outputs": [
    {
     "data": {
      "text/plain": "array([0.09003057, 0.24472847, 0.66524096])"
     },
     "execution_count": 11,
     "metadata": {},
     "output_type": "execute_result"
    }
   ]
  },
  {
   "cell_type": "code",
   "execution_count": 14,
   "outputs": [
    {
     "data": {
      "text/plain": "tensor([0.0900, 0.2447, 0.6652])"
     },
     "execution_count": 14,
     "metadata": {},
     "output_type": "execute_result"
    }
   ],
   "source": [
    "# torch\n",
    "x = torch.tensor([1,2,3], dtype=torch.float32)\n",
    "\n",
    "torch.softmax(x, dim=0)"
   ],
   "metadata": {
    "collapsed": false,
    "pycharm": {
     "name": "#%%\n"
    }
   }
  },
  {
   "cell_type": "code",
   "execution_count": 22,
   "outputs": [
    {
     "name": "stdout",
     "output_type": "stream",
     "text": [
      "tensor(0.4170)\n",
      "tensor(1.8406)\n",
      "tensor([0])\n",
      "tensor([1])\n"
     ]
    }
   ],
   "source": [
    "# cross entropy\n",
    "loss = nn.CrossEntropyLoss()\n",
    "\n",
    "# suppose we have 1 sample and 3 possible classes (0, 1 and 2)\n",
    "# n_samples x n_classes = 1 x 3\n",
    "y = torch.tensor([0])\n",
    "y_predicted_good = torch.tensor([[2.0, 1.0, 0.1]])\n",
    "y_predicted_bad = torch.tensor([[0.5, 2.0, 0.3]])\n",
    "\n",
    "l1 = loss(y_predicted_good, y)\n",
    "l2 = loss(y_predicted_bad, y)\n",
    "\n",
    "print(l1)\n",
    "print(l2)\n",
    "\n",
    "# good prediction has low cross entropy loss\n",
    "\n",
    "# to get good / bad prediction labels\n",
    "_, prediction_label_good = torch.max(y_predicted_good, dim=1)\n",
    "_, prediction_label_bad = torch.max(y_predicted_bad, dim=1)\n",
    "# torch.max() returns both the maximum value and their index -> in this case index is the label value\n",
    "\n",
    "print(prediction_label_good)\n",
    "print(prediction_label_bad)\n",
    "\n",
    "# when using cross entropy loss, do not use softmax layer in the end"
   ],
   "metadata": {
    "collapsed": false,
    "pycharm": {
     "name": "#%%\n"
    }
   }
  },
  {
   "cell_type": "code",
   "execution_count": null,
   "outputs": [],
   "source": [
    "# a sample net\n",
    "\n",
    "class MyNeuralNet(nn.Module):\n",
    "\n",
    "    def __init__(self, input_size, hidden_size):\n",
    "        super(MyNeuralNet, self).__init__()\n",
    "        self.linear1 = nn.Linear(input_size, hidden_size)\n",
    "        self.relu = nn.ReLU()\n",
    "        self.linear2 = nn.Linear(hidden_size, 1)\n",
    "        # in end size=1 because this is a binary classifier\n",
    "        # if it is a 3 class classifier, output size would be 3 -> or num_classes\n",
    "\n",
    "    def forward(self, x):\n",
    "        out = self.linear1(x)\n",
    "        out = self.relu(out)\n",
    "        out = self.linear2(out)\n",
    "\n",
    "        # sigmoid in the end\n",
    "        y_pred = torch.sigmoid_(out)\n",
    "        return y_pred\n",
    "\n",
    "model = MyNeuralNet(input_size=28*28, hidden_size=5)\n",
    "criterion = nn.BCELoss()\n"
   ],
   "metadata": {
    "collapsed": false,
    "pycharm": {
     "name": "#%%\n"
    }
   }
  }
 ],
 "metadata": {
  "kernelspec": {
   "display_name": "Python 3",
   "language": "python",
   "name": "python3"
  },
  "language_info": {
   "codemirror_mode": {
    "name": "ipython",
    "version": 2
   },
   "file_extension": ".py",
   "mimetype": "text/x-python",
   "name": "python",
   "nbconvert_exporter": "python",
   "pygments_lexer": "ipython2",
   "version": "2.7.6"
  }
 },
 "nbformat": 4,
 "nbformat_minor": 0
}